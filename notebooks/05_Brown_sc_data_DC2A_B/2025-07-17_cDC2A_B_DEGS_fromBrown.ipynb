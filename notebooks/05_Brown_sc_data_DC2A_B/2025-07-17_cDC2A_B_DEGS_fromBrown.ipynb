{
 "cells": [
  {
   "cell_type": "markdown",
   "id": "2022697e",
   "metadata": {},
   "source": [
    "# Comparing cDC2A/B data from Brown et al. 2019 to those in our atlas"
   ]
  },
  {
   "cell_type": "code",
   "execution_count": 1,
   "id": "54cbb449",
   "metadata": {},
   "outputs": [],
   "source": [
    "#load packages I need\n",
    "import os\n",
    "import tools\n",
    "import scanpy as sc\n",
    "import pandas as pd\n",
    "import matplotlib.pyplot as plt\n",
    "import scanpy.external as sce\n",
    "from matplotlib.pyplot import rc_context\n",
    "import seaborn as sns\n",
    "\n",
    "from scipy.stats import zscore"
   ]
  },
  {
   "cell_type": "code",
   "execution_count": 2,
   "id": "2a44c715",
   "metadata": {},
   "outputs": [
    {
     "data": {
      "text/plain": [
       "'/scratch/user/s4436039/scdata/Brown_Minutti_Data'"
      ]
     },
     "execution_count": 2,
     "metadata": {},
     "output_type": "execute_result"
    }
   ],
   "source": [
    "#set current directory \n",
    "os.chdir('/scratch/user/s4436039/scdata/Brown_Minutti_Data/')\n",
    "os.getcwd()"
   ]
  },
  {
   "cell_type": "code",
   "execution_count": 3,
   "id": "3e18e230",
   "metadata": {},
   "outputs": [],
   "source": [
    "data_Brown = sc.read_h5ad('brown_GSE137710.h5ad') #mouse BM, lung, spleen data with genes converted to human format\n",
    "data_Minutti = sc.read_h5ad('minutti_GSE217328_humanized.h5ad') #human spleen data (from sorted pre-cDCs)"
   ]
  },
  {
   "cell_type": "markdown",
   "id": "589afe13",
   "metadata": {},
   "source": [
    "# Make heatmap figure --> showing my cDC2A/B sigs (calculated from atlas) on these datasets"
   ]
  },
  {
   "cell_type": "code",
   "execution_count": 5,
   "id": "3194a0d2",
   "metadata": {},
   "outputs": [
    {
     "data": {
      "text/plain": [
       "AnnData object with n_obs × n_vars = 16643 × 2001\n",
       "    obs: 'nCount_RNA', 'nFeature_RNA', 'sample_type', 'cancer_type', 'patient_id', 'sample_id', 'percent.mt', 'site', 'sample_type_major', 'cancer_subtype', 'integration_id', 'ident', 'dataset_id', 'n_genes_by_counts', 'log1p_n_genes_by_counts', 'total_counts', 'log1p_total_counts', 'pct_counts_in_top_50_genes', 'pct_counts_in_top_100_genes', 'pct_counts_in_top_200_genes', 'pct_counts_in_top_500_genes', 'total_counts_mt', 'log1p_total_counts_mt', 'pct_counts_mt', 'S_score', 'G2M_score', 'keep_or_remove', 'leiden', 'celltype', 'leiden_DC', 'leiden_DC_v2', 'exclude_annots', 'leiden_M', 'Technology', 'NR_annotations_simple', 'sample_type_major2', 'cancer_with_H', 'cancer_broadest', 'patient_treatment', 'Guimaraes_DC2_FCER1A', 'Guimaraes_DC2_AREG', 'Guimaraes_Cheng_DC2_CD207/CD1A', 'Guimaraes_DC3_CD14', 'Guimaraes_DC4_FCGR3A', 'Guimaraes_DC_CXCL2', 'Cheng_DC2_CXCR4', 'Cheng_DC2_IL1B', 'Cheng_DC2_FCN1', 'Cheng_DC2_ISG15', 'Cheng_DC2_CXCL9', 'DC3_sig', '2025-DC2-true_02', '2025-DC2-true_05', '2025-DC2-true_08', '2025-DC2-true_08_sub5', '2025-DC2-true_08_sub5-1', 'cDC2A_sig', 'cDC2B_sig', 'cDC2_A-B', 'cDC2_Atlas_Subclusters'\n",
       "    var: 'name', 'mt', 'n_cells_by_counts', 'mean_counts', 'log1p_mean_counts', 'pct_dropout_by_counts', 'total_counts', 'log1p_total_counts', 'n_cells', 'highly_variable', 'means', 'dispersions', 'dispersions_norm', 'mean', 'std'\n",
       "    uns: '2025-DC2-true_02', '2025-DC2-true_02_colors', '2025-DC2-true_05', '2025-DC2-true_05_colors', '2025-DC2-true_08', '2025-DC2-true_08_colors', '2025-DC2-true_08_sub5', '2025-DC2-true_08_sub5-1', '2025-DC2-true_08_sub5-1_colors', '2025-DC2-true_08_sub5_colors', 'NR_annotations_simple_colors', 'cDC2_A-B_colors', 'cDC2_Atlas_Subclusters_colors', 'hvg', 'log1p', 'neighbors', 'pca', 'umap'\n",
       "    obsm: 'X_pca', 'X_umap'\n",
       "    varm: 'PCs'\n",
       "    obsp: 'connectivities', 'distances'"
      ]
     },
     "execution_count": 5,
     "metadata": {},
     "output_type": "execute_result"
    }
   ],
   "source": [
    "data_DC2"
   ]
  },
  {
   "cell_type": "markdown",
   "id": "6dedeb3b",
   "metadata": {},
   "source": [
    "## Standardise datasets - make a metadata column in each called NR_cDC2AB and subset each to only cDC2A and B"
   ]
  },
  {
   "cell_type": "markdown",
   "id": "3fe9e8cd",
   "metadata": {},
   "source": [
    "### Brown:"
   ]
  },
  {
   "cell_type": "code",
   "execution_count": 6,
   "id": "e6df694e",
   "metadata": {},
   "outputs": [
    {
     "data": {
      "text/plain": [
       "cell_type\n",
       "CLEC10A+ cDC2    2074\n",
       "cDC1              916\n",
       "CLEC10A- cDC2     911\n",
       "AS DC             302\n",
       "CCR7+ cDC2        117\n",
       "Mitotic cDC1      107\n",
       "Mitotic cDC2       38\n",
       "Name: count, dtype: int64"
      ]
     },
     "execution_count": 6,
     "metadata": {},
     "output_type": "execute_result"
    }
   ],
   "source": [
    "data_Brown.obs[\"cell_type\"].value_counts()"
   ]
  },
  {
   "cell_type": "code",
   "execution_count": 7,
   "id": "98d9c893",
   "metadata": {},
   "outputs": [],
   "source": [
    "# subset to just cDC2 A and B\n",
    "data_Brown_AB = data_Brown[data_Brown.obs[\"cell_type\"].isin([\"CLEC10A+ cDC2\", \"CLEC10A- cDC2\"])]"
   ]
  },
  {
   "cell_type": "code",
   "execution_count": 8,
   "id": "ab5ffc63",
   "metadata": {},
   "outputs": [
    {
     "data": {
      "text/plain": [
       "cell_type\n",
       "CLEC10A+ cDC2    2074\n",
       "CLEC10A- cDC2     911\n",
       "Name: count, dtype: int64"
      ]
     },
     "execution_count": 8,
     "metadata": {},
     "output_type": "execute_result"
    }
   ],
   "source": [
    "data_Brown_AB.obs[\"cell_type\"].value_counts()"
   ]
  },
  {
   "cell_type": "code",
   "execution_count": 9,
   "id": "ecf10e27",
   "metadata": {},
   "outputs": [
    {
     "name": "stderr",
     "output_type": "stream",
     "text": [
      "/scratch/temp/14959507/ipykernel_2529343/1171511707.py:2: ImplicitModificationWarning: Trying to modify attribute `.obs` of view, initializing view as actual.\n",
      "  data_Brown_AB.obs[\"NR_cDC2AB\"] = data_Brown_AB.obs[\"cell_type\"].map(\n"
     ]
    }
   ],
   "source": [
    "# make new meta column\n",
    "data_Brown_AB.obs[\"NR_cDC2AB\"] = data_Brown_AB.obs[\"cell_type\"].map(\n",
    "    {\n",
    "        \"CLEC10A+ cDC2\": \"cDC2B\",\n",
    "        \"CLEC10A- cDC2\": \"cDC2A\"\n",
    "    }\n",
    ")"
   ]
  },
  {
   "cell_type": "code",
   "execution_count": 10,
   "id": "b2e570d3",
   "metadata": {},
   "outputs": [
    {
     "data": {
      "text/plain": [
       "NR_cDC2AB\n",
       "cDC2B    2074\n",
       "cDC2A     911\n",
       "Name: count, dtype: int64"
      ]
     },
     "execution_count": 10,
     "metadata": {},
     "output_type": "execute_result"
    }
   ],
   "source": [
    "data_Brown_AB.obs[\"NR_cDC2AB\"].value_counts()"
   ]
  },
  {
   "cell_type": "markdown",
   "id": "217e7b2e",
   "metadata": {},
   "source": [
    "### Atlas:"
   ]
  },
  {
   "cell_type": "code",
   "execution_count": 16,
   "id": "bd6aab98",
   "metadata": {},
   "outputs": [
    {
     "data": {
      "text/plain": [
       "cDC2_A-B\n",
       "cDC2B    15398\n",
       "cDC2A     1245\n",
       "Name: count, dtype: int64"
      ]
     },
     "execution_count": 16,
     "metadata": {},
     "output_type": "execute_result"
    }
   ],
   "source": [
    "data_DC2.obs[\"cDC2_A-B\"].value_counts()"
   ]
  },
  {
   "cell_type": "code",
   "execution_count": 17,
   "id": "bd3fe75a",
   "metadata": {},
   "outputs": [],
   "source": [
    "# make new meta column\n",
    "data_DC2.obs[\"NR_cDC2AB\"] = data_DC2.obs[\"cDC2_A-B\"].map(\n",
    "    {\n",
    "        \"cDC2B\": \"cDC2B\",\n",
    "        \"cDC2A\": \"cDC2A\"\n",
    "    }\n",
    ")"
   ]
  },
  {
   "cell_type": "code",
   "execution_count": 18,
   "id": "ac652169",
   "metadata": {},
   "outputs": [
    {
     "data": {
      "text/plain": [
       "NR_cDC2AB\n",
       "cDC2B    15398\n",
       "cDC2A     1245\n",
       "Name: count, dtype: int64"
      ]
     },
     "execution_count": 18,
     "metadata": {},
     "output_type": "execute_result"
    }
   ],
   "source": [
    "data_DC2.obs[\"NR_cDC2AB\"].value_counts()"
   ]
  },
  {
   "cell_type": "markdown",
   "id": "1a999149",
   "metadata": {},
   "source": [
    "# Make dotplot to check what genes present"
   ]
  },
  {
   "cell_type": "code",
   "execution_count": null,
   "id": "7c4cfb1a",
   "metadata": {},
   "outputs": [],
   "source": [
    "# define deg lists\n",
    "NR_cDC2A_Sig = ['S100B','LTB','CD1A','PKIB','GSN','LST1','HLA-DQB2','ACTG1','AIF1','IL22RA2','ACTB','NDRG2','SUSD3','IL18','TACSTD2','GDI2','CLNK','SMCO4','HPGDS','GPR82','TUBA1B','PSMB9','C15orf48','CA2','GNGT2','GNAO1','PPM1N','SMAGP','PIK3R6','PLAC8','KCNMB1','FUT8','ABI3','PDGFRB','FCGBP','PTMS','CEACAM3','PAK1','PPM1J','CD207','PARM1','CBR3','CYFIP2','BCO2','MYL9','TUBB','SIGLEC10','CCND1','ANKRD55','GAS2L3','CD1E','SH3YL1','LPAR3','SMPDL3B','CCR6','IDO1','RAB33A','RUNX3','STK17A','NOTCH4','NAALADL1','NME4','CDK2AP2','DCTPP1','ACY3','SCPEP1','GTF2IRD1','TLR10','KALRN','SFTPD','NKG7','LBH','ACOX1','MTRNR2L12','CDH17','KCNK17','ITGB7','HIP1','NRN1','MTRNR2L8','CYSLTR1','RGS19','ARHGEF35','DAPK2','PSTPIP2','OCIAD2','SNAP29','PREX2','C12orf75','SYT2','FFAR4','CD3E','CCNG2','LSR','MACC1','PRKAR2B','NBEAL2','GAB3','PAWR','MYO1D']\n",
    "NR_cDC2B_Sig = ['LYZ','PSAP','CLEC10A','LGALS3','CD44','SRGN','SERPINA1','NFKBIA','PLAUR','CEBPD','TNFSF13B','IER3','NEAT1','SAT1','EMP3','GADD45B','AHNAK','CXCR4','FCGR2A','FCGR2B','PNRC1','ZEB2','REL','SOD2','CPVL','TIMP1','TSPO','FCER1G','FTH1','NFE2L2','NAMPT','MALAT1','CST3','TNFAIP3','TNFRSF1B','PTPRE','AP1S2','CDKN1A','RAB31','TGFBI','HLA-DRB1','ZFP36','SGK1','RUNX1','RNF130','ETS2','ZFAND5','STX11','BTG1','AOAH','JUNB','MCL1','APLP2','INSIG1','IL1B','CSTA','AKAP13','NPC2','CD99','HBEGF','MS4A7','MGAT1','RNH1','CD63','DUSP1','RGCC','GPR183','CD83','ATP1B3','CEBPB','KLF6','LRRFIP1','MXD1','PLXDC2','RILPL2','CXCL16','YBX3','GK','WSB1','ANXA2','HCST','CREM','LILRB4','MNDA','TYMP','MRC1','RAC1','EIF1','PPP1R15A','RGS2','GNAQ','KLF4','VEGFA','CAPN2','FPR3','OLR1','PPP1CB','IL10RA','RNF149','PIM3']"
   ]
  },
  {
   "cell_type": "code",
   "execution_count": 45,
   "id": "72880ce3",
   "metadata": {},
   "outputs": [],
   "source": [
    "# Define dictionary of gene sets\n",
    "gene_sets = {\n",
    "    \"NR_cDC2A_Sig\": NR_cDC2A_Sig,\n",
    "    \"NR_cDC2B_Sig\": NR_cDC2B_Sig\n",
    "}"
   ]
  },
  {
   "cell_type": "code",
   "execution_count": 53,
   "id": "afe016fb",
   "metadata": {},
   "outputs": [],
   "source": [
    "# Loop through each gene set and calculate the scores\n",
    "for name, genes in gene_sets.items():\n",
    "    sc.tl.score_genes(data_DC2, genes, score_name=name)"
   ]
  },
  {
   "cell_type": "code",
   "execution_count": 54,
   "id": "90022e0c",
   "metadata": {},
   "outputs": [
    {
     "name": "stdout",
     "output_type": "stream",
     "text": [
      "WARNING: genes are not in var_names and ignored: Index(['C15orf48', 'C12orf75'], dtype='object')\n"
     ]
    }
   ],
   "source": [
    "for name, genes in gene_sets.items():\n",
    "    sc.tl.score_genes(data_Brown_AB, genes, score_name=name)"
   ]
  },
  {
   "cell_type": "code",
   "execution_count": 48,
   "id": "e2021064",
   "metadata": {},
   "outputs": [],
   "source": [
    "colour_vars = [\"NR_cDC2A_Sig\",\"NR_cDC2B_Sig\"]"
   ]
  },
  {
   "cell_type": "code",
   "execution_count": null,
   "id": "6eabc02e",
   "metadata": {},
   "outputs": [],
   "source": [
    "sc.pl.dotplot(data_DC2, colour_vars, groupby=\"NR_cDC2AB\", standard_scale=\"var\", swap_axes=True)\n",
    "sc.pl.dotplot(data_Brown_AB, colour_vars, groupby=\"NR_cDC2AB\", standard_scale=\"var\", swap_axes=True)"
   ]
  },
  {
   "cell_type": "markdown",
   "id": "98a8555e",
   "metadata": {},
   "source": [
    "# Calculate average enrichment for each gene per cell type/dataset"
   ]
  },
  {
   "cell_type": "markdown",
   "id": "d502fe9e",
   "metadata": {},
   "source": [
    "# Only plot Brown:"
   ]
  },
  {
   "cell_type": "code",
   "execution_count": 54,
   "id": "178000eb",
   "metadata": {},
   "outputs": [],
   "source": [
    "# define gene list (top 100 degs for cDC2A and cDC2B from our atlas, excluded 'C15orf48' and 'C12orf75' as not in Brown\n",
    "NR_cDC2A_Sig = ['S100B','LTB','CD1A','PKIB','GSN','LST1','HLA-DQB2','ACTG1','AIF1','IL22RA2','ACTB','NDRG2','SUSD3','IL18','TACSTD2','GDI2','CLNK','SMCO4','HPGDS','GPR82','TUBA1B','PSMB9','C15orf48','CA2','GNGT2','GNAO1','PPM1N','SMAGP','PIK3R6','PLAC8','KCNMB1','FUT8','ABI3','PDGFRB','FCGBP','PTMS','CEACAM3','PAK1','PPM1J','CD207','PARM1','CBR3','CYFIP2','BCO2','MYL9','TUBB','SIGLEC10','CCND1','ANKRD55','GAS2L3','CD1E','SH3YL1','LPAR3','SMPDL3B','CCR6','IDO1','RAB33A','RUNX3','STK17A','NOTCH4','NAALADL1','NME4','CDK2AP2','DCTPP1','ACY3','SCPEP1','GTF2IRD1','TLR10','KALRN','SFTPD','NKG7','LBH','ACOX1','MTRNR2L12','CDH17','KCNK17','ITGB7','HIP1','NRN1','MTRNR2L8','CYSLTR1','RGS19','ARHGEF35','DAPK2','PSTPIP2','OCIAD2','SNAP29','PREX2','C12orf75','SYT2','FFAR4','CD3E','CCNG2','LSR','MACC1','PRKAR2B','NBEAL2','GAB3','PAWR','MYO1D']\n",
    "NR_cDC2B_Sig = ['LYZ','PSAP','CLEC10A','LGALS3','CD44','SRGN','SERPINA1','NFKBIA','PLAUR','CEBPD','TNFSF13B','IER3','NEAT1','SAT1','EMP3','GADD45B','AHNAK','CXCR4','FCGR2A','FCGR2B','PNRC1','ZEB2','REL','SOD2','CPVL','TIMP1','TSPO','FCER1G','FTH1','NFE2L2','NAMPT','MALAT1','CST3','TNFAIP3','TNFRSF1B','PTPRE','AP1S2','CDKN1A','RAB31','TGFBI','HLA-DRB1','ZFP36','SGK1','RUNX1','RNF130','ETS2','ZFAND5','STX11','BTG1','AOAH','JUNB','MCL1','APLP2','INSIG1','IL1B','CSTA','AKAP13','NPC2','CD99','HBEGF','MS4A7','MGAT1','RNH1','CD63','DUSP1','RGCC','GPR183','CD83','ATP1B3','CEBPB','KLF6','LRRFIP1','MXD1','PLXDC2','RILPL2','CXCL16','YBX3','GK','WSB1','ANXA2','HCST','CREM','LILRB4','MNDA','TYMP','MRC1','RAC1','EIF1','PPP1R15A','RGS2','GNAQ','KLF4','VEGFA','CAPN2','FPR3','OLR1','PPP1CB','IL10RA','RNF149','PIM3']\n",
    "\n",
    "NR_AB_Combined = ['S100B','LTB','CD1A','PKIB','GSN','LST1','HLA-DQB2','ACTG1','AIF1','IL22RA2','ACTB','NDRG2','SUSD3','IL18','TACSTD2','GDI2','CLNK','SMCO4','HPGDS','GPR82','TUBA1B',\n",
    "                  'PSMB9','CA2','GNGT2','GNAO1','PPM1N','SMAGP','PIK3R6','PLAC8','KCNMB1','FUT8','ABI3','PDGFRB','FCGBP','PTMS','CEACAM3','PAK1','PPM1J','CD207','PARM1',\n",
    "                  'CBR3','CYFIP2','BCO2','MYL9','TUBB','SIGLEC10','CCND1','ANKRD55','GAS2L3','CD1E','SH3YL1','LPAR3','SMPDL3B','CCR6','IDO1','RAB33A','RUNX3','STK17A','NOTCH4',\n",
    "                  'NAALADL1','NME4','CDK2AP2','DCTPP1','ACY3','SCPEP1','GTF2IRD1','TLR10','KALRN','SFTPD','NKG7','LBH','ACOX1','MTRNR2L12','CDH17','KCNK17','ITGB7','HIP1','NRN1',\n",
    "                  'MTRNR2L8','CYSLTR1','RGS19','ARHGEF35','DAPK2','PSTPIP2','OCIAD2','SNAP29','PREX2','SYT2','FFAR4','CD3E','CCNG2','LSR','MACC1','PRKAR2B','NBEAL2','GAB3',\n",
    "                  'PAWR','MYO1D', \n",
    "                  'LYZ','PSAP','CLEC10A','LGALS3','CD44','SRGN','SERPINA1','NFKBIA','PLAUR','CEBPD','TNFSF13B','IER3','NEAT1','SAT1','EMP3','GADD45B','AHNAK','CXCR4',\n",
    "                  'FCGR2A','FCGR2B','PNRC1','ZEB2','REL','SOD2','CPVL','TIMP1','TSPO','FCER1G','FTH1','NFE2L2','NAMPT','MALAT1','CST3','TNFAIP3','TNFRSF1B','PTPRE','AP1S2','CDKN1A',\n",
    "                  'RAB31','TGFBI','HLA-DRB1','ZFP36','SGK1','RUNX1','RNF130','ETS2','ZFAND5','STX11','BTG1','AOAH','JUNB','MCL1','APLP2','INSIG1','IL1B','CSTA','AKAP13','NPC2','CD99',\n",
    "                  'HBEGF','MS4A7','MGAT1','RNH1','CD63','DUSP1','RGCC','GPR183','CD83','ATP1B3','CEBPB','KLF6','LRRFIP1','MXD1','PLXDC2','RILPL2','CXCL16','YBX3','GK','WSB1','ANXA2',\n",
    "                  'HCST','CREM','LILRB4','MNDA','TYMP','MRC1','RAC1','EIF1','PPP1R15A','RGS2','GNAQ','KLF4','VEGFA','CAPN2','FPR3','OLR1','PPP1CB','IL10RA','RNF149','PIM3']"
   ]
  },
  {
   "cell_type": "markdown",
   "id": "d09729c4",
   "metadata": {},
   "source": [
    "## Normalise first across all cells before averaging by cell type"
   ]
  },
  {
   "cell_type": "code",
   "execution_count": 108,
   "id": "9c0b04d6",
   "metadata": {},
   "outputs": [
    {
     "name": "stderr",
     "output_type": "stream",
     "text": [
      "/scratch/temp/14959507/ipykernel_2529343/900059460.py:9: FutureWarning: The default of observed=False is deprecated and will be changed to True in a future version of pandas. Pass observed=False to retain current behavior or observed=True to adopt the future default and silence this warning.\n",
      "  avg_df_Atlas = expr_df_Atlas_z.groupby(\"NR_cDC2AB\").mean()\n"
     ]
    }
   ],
   "source": [
    "#Atlas\n",
    "\n",
    "# Extract raw expression values as a DataFrame\n",
    "expr_df_Atlas = data_DC2.raw.to_adata().to_df()[NR_AB_Combined]\n",
    "expr_df_Atlas_z = expr_df_Atlas.apply(zscore, axis=0) #normalise (z score) per gene\n",
    "# Add metadata column \n",
    "expr_df_Atlas_z[\"NR_cDC2AB\"] = data_DC2.obs[\"NR_cDC2AB\"].values\n",
    "# Group/average by cell type \n",
    "avg_df_Atlas = expr_df_Atlas_z.groupby(\"NR_cDC2AB\").mean()\n",
    "# add dataset label\n",
    "avg_df_Atlas[\"dataset\"] = \"Atlas\"\n"
   ]
  },
  {
   "cell_type": "code",
   "execution_count": 109,
   "id": "88bee7dc",
   "metadata": {},
   "outputs": [
    {
     "name": "stderr",
     "output_type": "stream",
     "text": [
      "/scratch/temp/14959507/ipykernel_2529343/1346692175.py:9: FutureWarning: The default of observed=False is deprecated and will be changed to True in a future version of pandas. Pass observed=False to retain current behavior or observed=True to adopt the future default and silence this warning.\n",
      "  avg_df_Brown = expr_df_Brown_z.groupby(\"NR_cDC2AB\").mean()\n"
     ]
    }
   ],
   "source": [
    "# Brown\n",
    "\n",
    "# Extract raw expression values as a DataFrame\n",
    "expr_df_Brown = data_Brown_AB.raw.to_adata().to_df()[NR_AB_Combined]\n",
    "expr_df_Brown_z = expr_df_Brown.apply(zscore, axis=0) #normalise (z score) per gene\n",
    "# Add metadata column \n",
    "expr_df_Brown_z[\"NR_cDC2AB\"] = data_Brown_AB.obs[\"NR_cDC2AB\"].values\n",
    "# Group/average by cell type \n",
    "avg_df_Brown = expr_df_Brown_z.groupby(\"NR_cDC2AB\").mean()\n",
    "# add dataset label\n",
    "avg_df_Brown[\"dataset\"] = \"Brown\""
   ]
  },
  {
   "cell_type": "code",
   "execution_count": 110,
   "id": "d9bf3679",
   "metadata": {},
   "outputs": [
    {
     "data": {
      "text/plain": [
       "ARHGEF35    0.0\n",
       "PREX2       0.0\n",
       "dtype: float64"
      ]
     },
     "execution_count": 110,
     "metadata": {},
     "output_type": "execute_result"
    }
   ],
   "source": [
    "expr_df_Brown.std(axis=0)[expr_df_Brown.std(axis=0) == 0] # these two genes have 0.0 std deviation in Brown data, giving NaN after z scoring"
   ]
  },
  {
   "cell_type": "code",
   "execution_count": 111,
   "id": "957b245c",
   "metadata": {},
   "outputs": [
    {
     "data": {
      "text/html": [
       "<div>\n",
       "<style scoped>\n",
       "    .dataframe tbody tr th:only-of-type {\n",
       "        vertical-align: middle;\n",
       "    }\n",
       "\n",
       "    .dataframe tbody tr th {\n",
       "        vertical-align: top;\n",
       "    }\n",
       "\n",
       "    .dataframe thead th {\n",
       "        text-align: right;\n",
       "    }\n",
       "</style>\n",
       "<table border=\"1\" class=\"dataframe\">\n",
       "  <thead>\n",
       "    <tr style=\"text-align: right;\">\n",
       "      <th></th>\n",
       "      <th>S100B</th>\n",
       "      <th>LTB</th>\n",
       "      <th>CD1A</th>\n",
       "      <th>PKIB</th>\n",
       "      <th>GSN</th>\n",
       "      <th>LST1</th>\n",
       "      <th>HLA-DQB2</th>\n",
       "      <th>ACTG1</th>\n",
       "      <th>AIF1</th>\n",
       "      <th>IL22RA2</th>\n",
       "      <th>...</th>\n",
       "      <th>KLF4</th>\n",
       "      <th>VEGFA</th>\n",
       "      <th>CAPN2</th>\n",
       "      <th>FPR3</th>\n",
       "      <th>OLR1</th>\n",
       "      <th>PPP1CB</th>\n",
       "      <th>IL10RA</th>\n",
       "      <th>RNF149</th>\n",
       "      <th>PIM3</th>\n",
       "      <th>dataset</th>\n",
       "    </tr>\n",
       "    <tr>\n",
       "      <th>NR_cDC2AB</th>\n",
       "      <th></th>\n",
       "      <th></th>\n",
       "      <th></th>\n",
       "      <th></th>\n",
       "      <th></th>\n",
       "      <th></th>\n",
       "      <th></th>\n",
       "      <th></th>\n",
       "      <th></th>\n",
       "      <th></th>\n",
       "      <th></th>\n",
       "      <th></th>\n",
       "      <th></th>\n",
       "      <th></th>\n",
       "      <th></th>\n",
       "      <th></th>\n",
       "      <th></th>\n",
       "      <th></th>\n",
       "      <th></th>\n",
       "      <th></th>\n",
       "      <th></th>\n",
       "    </tr>\n",
       "  </thead>\n",
       "  <tbody>\n",
       "    <tr>\n",
       "      <th>cDC2A</th>\n",
       "      <td>1.859270</td>\n",
       "      <td>1.451345</td>\n",
       "      <td>1.295573</td>\n",
       "      <td>0.723279</td>\n",
       "      <td>0.579300</td>\n",
       "      <td>0.456642</td>\n",
       "      <td>0.980732</td>\n",
       "      <td>0.390595</td>\n",
       "      <td>0.407114</td>\n",
       "      <td>1.467170</td>\n",
       "      <td>...</td>\n",
       "      <td>-0.493913</td>\n",
       "      <td>-0.531216</td>\n",
       "      <td>-0.505845</td>\n",
       "      <td>-0.502746</td>\n",
       "      <td>-0.533704</td>\n",
       "      <td>-0.481359</td>\n",
       "      <td>-0.487707</td>\n",
       "      <td>-0.475341</td>\n",
       "      <td>-0.487506</td>\n",
       "      <td>Atlas</td>\n",
       "    </tr>\n",
       "    <tr>\n",
       "      <th>cDC2B</th>\n",
       "      <td>-0.150331</td>\n",
       "      <td>-0.117348</td>\n",
       "      <td>-0.104753</td>\n",
       "      <td>-0.058480</td>\n",
       "      <td>-0.046839</td>\n",
       "      <td>-0.036922</td>\n",
       "      <td>-0.079297</td>\n",
       "      <td>-0.031581</td>\n",
       "      <td>-0.032917</td>\n",
       "      <td>-0.118628</td>\n",
       "      <td>...</td>\n",
       "      <td>0.039935</td>\n",
       "      <td>0.042951</td>\n",
       "      <td>0.040900</td>\n",
       "      <td>0.040649</td>\n",
       "      <td>0.043152</td>\n",
       "      <td>0.038920</td>\n",
       "      <td>0.039433</td>\n",
       "      <td>0.038434</td>\n",
       "      <td>0.039417</td>\n",
       "      <td>Atlas</td>\n",
       "    </tr>\n",
       "  </tbody>\n",
       "</table>\n",
       "<p>2 rows × 199 columns</p>\n",
       "</div>"
      ],
      "text/plain": [
       "              S100B       LTB      CD1A      PKIB       GSN      LST1  \\\n",
       "NR_cDC2AB                                                               \n",
       "cDC2A      1.859270  1.451345  1.295573  0.723279  0.579300  0.456642   \n",
       "cDC2B     -0.150331 -0.117348 -0.104753 -0.058480 -0.046839 -0.036922   \n",
       "\n",
       "           HLA-DQB2     ACTG1      AIF1   IL22RA2  ...      KLF4     VEGFA  \\\n",
       "NR_cDC2AB                                          ...                       \n",
       "cDC2A      0.980732  0.390595  0.407114  1.467170  ... -0.493913 -0.531216   \n",
       "cDC2B     -0.079297 -0.031581 -0.032917 -0.118628  ...  0.039935  0.042951   \n",
       "\n",
       "              CAPN2      FPR3      OLR1    PPP1CB    IL10RA    RNF149  \\\n",
       "NR_cDC2AB                                                               \n",
       "cDC2A     -0.505845 -0.502746 -0.533704 -0.481359 -0.487707 -0.475341   \n",
       "cDC2B      0.040900  0.040649  0.043152  0.038920  0.039433  0.038434   \n",
       "\n",
       "               PIM3  dataset  \n",
       "NR_cDC2AB                     \n",
       "cDC2A     -0.487506    Atlas  \n",
       "cDC2B      0.039417    Atlas  \n",
       "\n",
       "[2 rows x 199 columns]"
      ]
     },
     "execution_count": 111,
     "metadata": {},
     "output_type": "execute_result"
    }
   ],
   "source": [
    "avg_df_Atlas.head()"
   ]
  },
  {
   "cell_type": "code",
   "execution_count": 112,
   "id": "35f442ef",
   "metadata": {},
   "outputs": [],
   "source": [
    "#combine\n",
    "combined_df = pd.concat([avg_df_Atlas, avg_df_Brown], axis=0).reset_index()"
   ]
  },
  {
   "cell_type": "code",
   "execution_count": 113,
   "id": "c45235be",
   "metadata": {},
   "outputs": [
    {
     "data": {
      "text/html": [
       "<div>\n",
       "<style scoped>\n",
       "    .dataframe tbody tr th:only-of-type {\n",
       "        vertical-align: middle;\n",
       "    }\n",
       "\n",
       "    .dataframe tbody tr th {\n",
       "        vertical-align: top;\n",
       "    }\n",
       "\n",
       "    .dataframe thead th {\n",
       "        text-align: right;\n",
       "    }\n",
       "</style>\n",
       "<table border=\"1\" class=\"dataframe\">\n",
       "  <thead>\n",
       "    <tr style=\"text-align: right;\">\n",
       "      <th></th>\n",
       "      <th>NR_cDC2AB</th>\n",
       "      <th>S100B</th>\n",
       "      <th>LTB</th>\n",
       "      <th>CD1A</th>\n",
       "      <th>PKIB</th>\n",
       "      <th>GSN</th>\n",
       "      <th>LST1</th>\n",
       "      <th>HLA-DQB2</th>\n",
       "      <th>ACTG1</th>\n",
       "      <th>AIF1</th>\n",
       "      <th>...</th>\n",
       "      <th>KLF4</th>\n",
       "      <th>VEGFA</th>\n",
       "      <th>CAPN2</th>\n",
       "      <th>FPR3</th>\n",
       "      <th>OLR1</th>\n",
       "      <th>PPP1CB</th>\n",
       "      <th>IL10RA</th>\n",
       "      <th>RNF149</th>\n",
       "      <th>PIM3</th>\n",
       "      <th>dataset</th>\n",
       "    </tr>\n",
       "  </thead>\n",
       "  <tbody>\n",
       "    <tr>\n",
       "      <th>0</th>\n",
       "      <td>cDC2A</td>\n",
       "      <td>1.859270</td>\n",
       "      <td>1.451345</td>\n",
       "      <td>1.295573</td>\n",
       "      <td>0.723279</td>\n",
       "      <td>0.579300</td>\n",
       "      <td>0.456642</td>\n",
       "      <td>0.980732</td>\n",
       "      <td>0.390595</td>\n",
       "      <td>0.407114</td>\n",
       "      <td>...</td>\n",
       "      <td>-0.493913</td>\n",
       "      <td>-0.531216</td>\n",
       "      <td>-0.505845</td>\n",
       "      <td>-0.502746</td>\n",
       "      <td>-0.533704</td>\n",
       "      <td>-0.481359</td>\n",
       "      <td>-0.487707</td>\n",
       "      <td>-0.475341</td>\n",
       "      <td>-0.487506</td>\n",
       "      <td>Atlas</td>\n",
       "    </tr>\n",
       "    <tr>\n",
       "      <th>1</th>\n",
       "      <td>cDC2B</td>\n",
       "      <td>-0.150331</td>\n",
       "      <td>-0.117348</td>\n",
       "      <td>-0.104753</td>\n",
       "      <td>-0.058480</td>\n",
       "      <td>-0.046839</td>\n",
       "      <td>-0.036922</td>\n",
       "      <td>-0.079297</td>\n",
       "      <td>-0.031581</td>\n",
       "      <td>-0.032917</td>\n",
       "      <td>...</td>\n",
       "      <td>0.039935</td>\n",
       "      <td>0.042951</td>\n",
       "      <td>0.040900</td>\n",
       "      <td>0.040649</td>\n",
       "      <td>0.043152</td>\n",
       "      <td>0.038920</td>\n",
       "      <td>0.039433</td>\n",
       "      <td>0.038434</td>\n",
       "      <td>0.039417</td>\n",
       "      <td>Atlas</td>\n",
       "    </tr>\n",
       "    <tr>\n",
       "      <th>2</th>\n",
       "      <td>cDC2B</td>\n",
       "      <td>-0.013954</td>\n",
       "      <td>-0.510420</td>\n",
       "      <td>0.013611</td>\n",
       "      <td>-0.056154</td>\n",
       "      <td>-0.184055</td>\n",
       "      <td>-0.348677</td>\n",
       "      <td>-0.025550</td>\n",
       "      <td>-0.102522</td>\n",
       "      <td>0.206919</td>\n",
       "      <td>...</td>\n",
       "      <td>-0.103235</td>\n",
       "      <td>0.036864</td>\n",
       "      <td>0.153769</td>\n",
       "      <td>0.103952</td>\n",
       "      <td>0.042814</td>\n",
       "      <td>0.065562</td>\n",
       "      <td>0.056687</td>\n",
       "      <td>0.039824</td>\n",
       "      <td>-0.015986</td>\n",
       "      <td>Brown</td>\n",
       "    </tr>\n",
       "    <tr>\n",
       "      <th>3</th>\n",
       "      <td>cDC2A</td>\n",
       "      <td>0.031768</td>\n",
       "      <td>1.162033</td>\n",
       "      <td>-0.030988</td>\n",
       "      <td>0.127842</td>\n",
       "      <td>0.419023</td>\n",
       "      <td>0.793804</td>\n",
       "      <td>0.058167</td>\n",
       "      <td>0.233402</td>\n",
       "      <td>-0.471076</td>\n",
       "      <td>...</td>\n",
       "      <td>0.235027</td>\n",
       "      <td>-0.083925</td>\n",
       "      <td>-0.350073</td>\n",
       "      <td>-0.236660</td>\n",
       "      <td>-0.097471</td>\n",
       "      <td>-0.149260</td>\n",
       "      <td>-0.129056</td>\n",
       "      <td>-0.090665</td>\n",
       "      <td>0.036394</td>\n",
       "      <td>Brown</td>\n",
       "    </tr>\n",
       "  </tbody>\n",
       "</table>\n",
       "<p>4 rows × 200 columns</p>\n",
       "</div>"
      ],
      "text/plain": [
       "  NR_cDC2AB     S100B       LTB      CD1A      PKIB       GSN      LST1  \\\n",
       "0     cDC2A  1.859270  1.451345  1.295573  0.723279  0.579300  0.456642   \n",
       "1     cDC2B -0.150331 -0.117348 -0.104753 -0.058480 -0.046839 -0.036922   \n",
       "2     cDC2B -0.013954 -0.510420  0.013611 -0.056154 -0.184055 -0.348677   \n",
       "3     cDC2A  0.031768  1.162033 -0.030988  0.127842  0.419023  0.793804   \n",
       "\n",
       "   HLA-DQB2     ACTG1      AIF1  ...      KLF4     VEGFA     CAPN2      FPR3  \\\n",
       "0  0.980732  0.390595  0.407114  ... -0.493913 -0.531216 -0.505845 -0.502746   \n",
       "1 -0.079297 -0.031581 -0.032917  ...  0.039935  0.042951  0.040900  0.040649   \n",
       "2 -0.025550 -0.102522  0.206919  ... -0.103235  0.036864  0.153769  0.103952   \n",
       "3  0.058167  0.233402 -0.471076  ...  0.235027 -0.083925 -0.350073 -0.236660   \n",
       "\n",
       "       OLR1    PPP1CB    IL10RA    RNF149      PIM3  dataset  \n",
       "0 -0.533704 -0.481359 -0.487707 -0.475341 -0.487506    Atlas  \n",
       "1  0.043152  0.038920  0.039433  0.038434  0.039417    Atlas  \n",
       "2  0.042814  0.065562  0.056687  0.039824 -0.015986    Brown  \n",
       "3 -0.097471 -0.149260 -0.129056 -0.090665  0.036394    Brown  \n",
       "\n",
       "[4 rows x 200 columns]"
      ]
     },
     "execution_count": 113,
     "metadata": {},
     "output_type": "execute_result"
    }
   ],
   "source": [
    "combined_df.head()"
   ]
  },
  {
   "cell_type": "code",
   "execution_count": 114,
   "id": "d13b3cf8",
   "metadata": {},
   "outputs": [],
   "source": [
    "#drop NaN's \n",
    "combined_df.columns[combined_df.isna().any()]\n",
    "combined_df = combined_df.dropna(axis=1)"
   ]
  },
  {
   "cell_type": "code",
   "execution_count": 115,
   "id": "64570dcc",
   "metadata": {},
   "outputs": [
    {
     "data": {
      "text/html": [
       "<div>\n",
       "<style scoped>\n",
       "    .dataframe tbody tr th:only-of-type {\n",
       "        vertical-align: middle;\n",
       "    }\n",
       "\n",
       "    .dataframe tbody tr th {\n",
       "        vertical-align: top;\n",
       "    }\n",
       "\n",
       "    .dataframe thead th {\n",
       "        text-align: right;\n",
       "    }\n",
       "</style>\n",
       "<table border=\"1\" class=\"dataframe\">\n",
       "  <thead>\n",
       "    <tr style=\"text-align: right;\">\n",
       "      <th></th>\n",
       "      <th>NR_cDC2AB</th>\n",
       "      <th>S100B</th>\n",
       "      <th>LTB</th>\n",
       "      <th>CD1A</th>\n",
       "      <th>PKIB</th>\n",
       "      <th>GSN</th>\n",
       "      <th>LST1</th>\n",
       "      <th>HLA-DQB2</th>\n",
       "      <th>ACTG1</th>\n",
       "      <th>AIF1</th>\n",
       "      <th>...</th>\n",
       "      <th>KLF4</th>\n",
       "      <th>VEGFA</th>\n",
       "      <th>CAPN2</th>\n",
       "      <th>FPR3</th>\n",
       "      <th>OLR1</th>\n",
       "      <th>PPP1CB</th>\n",
       "      <th>IL10RA</th>\n",
       "      <th>RNF149</th>\n",
       "      <th>PIM3</th>\n",
       "      <th>dataset</th>\n",
       "    </tr>\n",
       "  </thead>\n",
       "  <tbody>\n",
       "    <tr>\n",
       "      <th>0</th>\n",
       "      <td>cDC2A</td>\n",
       "      <td>1.859270</td>\n",
       "      <td>1.451345</td>\n",
       "      <td>1.295573</td>\n",
       "      <td>0.723279</td>\n",
       "      <td>0.579300</td>\n",
       "      <td>0.456642</td>\n",
       "      <td>0.980732</td>\n",
       "      <td>0.390595</td>\n",
       "      <td>0.407114</td>\n",
       "      <td>...</td>\n",
       "      <td>-0.493913</td>\n",
       "      <td>-0.531216</td>\n",
       "      <td>-0.505845</td>\n",
       "      <td>-0.502746</td>\n",
       "      <td>-0.533704</td>\n",
       "      <td>-0.481359</td>\n",
       "      <td>-0.487707</td>\n",
       "      <td>-0.475341</td>\n",
       "      <td>-0.487506</td>\n",
       "      <td>Atlas</td>\n",
       "    </tr>\n",
       "    <tr>\n",
       "      <th>1</th>\n",
       "      <td>cDC2B</td>\n",
       "      <td>-0.150331</td>\n",
       "      <td>-0.117348</td>\n",
       "      <td>-0.104753</td>\n",
       "      <td>-0.058480</td>\n",
       "      <td>-0.046839</td>\n",
       "      <td>-0.036922</td>\n",
       "      <td>-0.079297</td>\n",
       "      <td>-0.031581</td>\n",
       "      <td>-0.032917</td>\n",
       "      <td>...</td>\n",
       "      <td>0.039935</td>\n",
       "      <td>0.042951</td>\n",
       "      <td>0.040900</td>\n",
       "      <td>0.040649</td>\n",
       "      <td>0.043152</td>\n",
       "      <td>0.038920</td>\n",
       "      <td>0.039433</td>\n",
       "      <td>0.038434</td>\n",
       "      <td>0.039417</td>\n",
       "      <td>Atlas</td>\n",
       "    </tr>\n",
       "    <tr>\n",
       "      <th>2</th>\n",
       "      <td>cDC2B</td>\n",
       "      <td>-0.013954</td>\n",
       "      <td>-0.510420</td>\n",
       "      <td>0.013611</td>\n",
       "      <td>-0.056154</td>\n",
       "      <td>-0.184055</td>\n",
       "      <td>-0.348677</td>\n",
       "      <td>-0.025550</td>\n",
       "      <td>-0.102522</td>\n",
       "      <td>0.206919</td>\n",
       "      <td>...</td>\n",
       "      <td>-0.103235</td>\n",
       "      <td>0.036864</td>\n",
       "      <td>0.153769</td>\n",
       "      <td>0.103952</td>\n",
       "      <td>0.042814</td>\n",
       "      <td>0.065562</td>\n",
       "      <td>0.056687</td>\n",
       "      <td>0.039824</td>\n",
       "      <td>-0.015986</td>\n",
       "      <td>Brown</td>\n",
       "    </tr>\n",
       "    <tr>\n",
       "      <th>3</th>\n",
       "      <td>cDC2A</td>\n",
       "      <td>0.031768</td>\n",
       "      <td>1.162033</td>\n",
       "      <td>-0.030988</td>\n",
       "      <td>0.127842</td>\n",
       "      <td>0.419023</td>\n",
       "      <td>0.793804</td>\n",
       "      <td>0.058167</td>\n",
       "      <td>0.233402</td>\n",
       "      <td>-0.471076</td>\n",
       "      <td>...</td>\n",
       "      <td>0.235027</td>\n",
       "      <td>-0.083925</td>\n",
       "      <td>-0.350073</td>\n",
       "      <td>-0.236660</td>\n",
       "      <td>-0.097471</td>\n",
       "      <td>-0.149260</td>\n",
       "      <td>-0.129056</td>\n",
       "      <td>-0.090665</td>\n",
       "      <td>0.036394</td>\n",
       "      <td>Brown</td>\n",
       "    </tr>\n",
       "  </tbody>\n",
       "</table>\n",
       "<p>4 rows × 198 columns</p>\n",
       "</div>"
      ],
      "text/plain": [
       "  NR_cDC2AB     S100B       LTB      CD1A      PKIB       GSN      LST1  \\\n",
       "0     cDC2A  1.859270  1.451345  1.295573  0.723279  0.579300  0.456642   \n",
       "1     cDC2B -0.150331 -0.117348 -0.104753 -0.058480 -0.046839 -0.036922   \n",
       "2     cDC2B -0.013954 -0.510420  0.013611 -0.056154 -0.184055 -0.348677   \n",
       "3     cDC2A  0.031768  1.162033 -0.030988  0.127842  0.419023  0.793804   \n",
       "\n",
       "   HLA-DQB2     ACTG1      AIF1  ...      KLF4     VEGFA     CAPN2      FPR3  \\\n",
       "0  0.980732  0.390595  0.407114  ... -0.493913 -0.531216 -0.505845 -0.502746   \n",
       "1 -0.079297 -0.031581 -0.032917  ...  0.039935  0.042951  0.040900  0.040649   \n",
       "2 -0.025550 -0.102522  0.206919  ... -0.103235  0.036864  0.153769  0.103952   \n",
       "3  0.058167  0.233402 -0.471076  ...  0.235027 -0.083925 -0.350073 -0.236660   \n",
       "\n",
       "       OLR1    PPP1CB    IL10RA    RNF149      PIM3  dataset  \n",
       "0 -0.533704 -0.481359 -0.487707 -0.475341 -0.487506    Atlas  \n",
       "1  0.043152  0.038920  0.039433  0.038434  0.039417    Atlas  \n",
       "2  0.042814  0.065562  0.056687  0.039824 -0.015986    Brown  \n",
       "3 -0.097471 -0.149260 -0.129056 -0.090665  0.036394    Brown  \n",
       "\n",
       "[4 rows x 198 columns]"
      ]
     },
     "execution_count": 115,
     "metadata": {},
     "output_type": "execute_result"
    }
   ],
   "source": [
    "combined_df.head()"
   ]
  },
  {
   "cell_type": "code",
   "execution_count": 116,
   "id": "28262649",
   "metadata": {},
   "outputs": [],
   "source": [
    "combined_df[\"celltype_dataset\"] = combined_df[\"NR_cDC2AB\"].astype(str) + \"_\" + combined_df[\"dataset\"].astype(str)"
   ]
  },
  {
   "cell_type": "code",
   "execution_count": 117,
   "id": "3d827931",
   "metadata": {},
   "outputs": [
    {
     "data": {
      "text/html": [
       "<div>\n",
       "<style scoped>\n",
       "    .dataframe tbody tr th:only-of-type {\n",
       "        vertical-align: middle;\n",
       "    }\n",
       "\n",
       "    .dataframe tbody tr th {\n",
       "        vertical-align: top;\n",
       "    }\n",
       "\n",
       "    .dataframe thead th {\n",
       "        text-align: right;\n",
       "    }\n",
       "</style>\n",
       "<table border=\"1\" class=\"dataframe\">\n",
       "  <thead>\n",
       "    <tr style=\"text-align: right;\">\n",
       "      <th></th>\n",
       "      <th>NR_cDC2AB</th>\n",
       "      <th>S100B</th>\n",
       "      <th>LTB</th>\n",
       "      <th>CD1A</th>\n",
       "      <th>PKIB</th>\n",
       "      <th>GSN</th>\n",
       "      <th>LST1</th>\n",
       "      <th>HLA-DQB2</th>\n",
       "      <th>ACTG1</th>\n",
       "      <th>AIF1</th>\n",
       "      <th>...</th>\n",
       "      <th>VEGFA</th>\n",
       "      <th>CAPN2</th>\n",
       "      <th>FPR3</th>\n",
       "      <th>OLR1</th>\n",
       "      <th>PPP1CB</th>\n",
       "      <th>IL10RA</th>\n",
       "      <th>RNF149</th>\n",
       "      <th>PIM3</th>\n",
       "      <th>dataset</th>\n",
       "      <th>celltype_dataset</th>\n",
       "    </tr>\n",
       "  </thead>\n",
       "  <tbody>\n",
       "    <tr>\n",
       "      <th>0</th>\n",
       "      <td>cDC2A</td>\n",
       "      <td>1.859270</td>\n",
       "      <td>1.451345</td>\n",
       "      <td>1.295573</td>\n",
       "      <td>0.723279</td>\n",
       "      <td>0.579300</td>\n",
       "      <td>0.456642</td>\n",
       "      <td>0.980732</td>\n",
       "      <td>0.390595</td>\n",
       "      <td>0.407114</td>\n",
       "      <td>...</td>\n",
       "      <td>-0.531216</td>\n",
       "      <td>-0.505845</td>\n",
       "      <td>-0.502746</td>\n",
       "      <td>-0.533704</td>\n",
       "      <td>-0.481359</td>\n",
       "      <td>-0.487707</td>\n",
       "      <td>-0.475341</td>\n",
       "      <td>-0.487506</td>\n",
       "      <td>Atlas</td>\n",
       "      <td>cDC2A_Atlas</td>\n",
       "    </tr>\n",
       "    <tr>\n",
       "      <th>1</th>\n",
       "      <td>cDC2B</td>\n",
       "      <td>-0.150331</td>\n",
       "      <td>-0.117348</td>\n",
       "      <td>-0.104753</td>\n",
       "      <td>-0.058480</td>\n",
       "      <td>-0.046839</td>\n",
       "      <td>-0.036922</td>\n",
       "      <td>-0.079297</td>\n",
       "      <td>-0.031581</td>\n",
       "      <td>-0.032917</td>\n",
       "      <td>...</td>\n",
       "      <td>0.042951</td>\n",
       "      <td>0.040900</td>\n",
       "      <td>0.040649</td>\n",
       "      <td>0.043152</td>\n",
       "      <td>0.038920</td>\n",
       "      <td>0.039433</td>\n",
       "      <td>0.038434</td>\n",
       "      <td>0.039417</td>\n",
       "      <td>Atlas</td>\n",
       "      <td>cDC2B_Atlas</td>\n",
       "    </tr>\n",
       "    <tr>\n",
       "      <th>2</th>\n",
       "      <td>cDC2B</td>\n",
       "      <td>-0.013954</td>\n",
       "      <td>-0.510420</td>\n",
       "      <td>0.013611</td>\n",
       "      <td>-0.056154</td>\n",
       "      <td>-0.184055</td>\n",
       "      <td>-0.348677</td>\n",
       "      <td>-0.025550</td>\n",
       "      <td>-0.102522</td>\n",
       "      <td>0.206919</td>\n",
       "      <td>...</td>\n",
       "      <td>0.036864</td>\n",
       "      <td>0.153769</td>\n",
       "      <td>0.103952</td>\n",
       "      <td>0.042814</td>\n",
       "      <td>0.065562</td>\n",
       "      <td>0.056687</td>\n",
       "      <td>0.039824</td>\n",
       "      <td>-0.015986</td>\n",
       "      <td>Brown</td>\n",
       "      <td>cDC2B_Brown</td>\n",
       "    </tr>\n",
       "    <tr>\n",
       "      <th>3</th>\n",
       "      <td>cDC2A</td>\n",
       "      <td>0.031768</td>\n",
       "      <td>1.162033</td>\n",
       "      <td>-0.030988</td>\n",
       "      <td>0.127842</td>\n",
       "      <td>0.419023</td>\n",
       "      <td>0.793804</td>\n",
       "      <td>0.058167</td>\n",
       "      <td>0.233402</td>\n",
       "      <td>-0.471076</td>\n",
       "      <td>...</td>\n",
       "      <td>-0.083925</td>\n",
       "      <td>-0.350073</td>\n",
       "      <td>-0.236660</td>\n",
       "      <td>-0.097471</td>\n",
       "      <td>-0.149260</td>\n",
       "      <td>-0.129056</td>\n",
       "      <td>-0.090665</td>\n",
       "      <td>0.036394</td>\n",
       "      <td>Brown</td>\n",
       "      <td>cDC2A_Brown</td>\n",
       "    </tr>\n",
       "  </tbody>\n",
       "</table>\n",
       "<p>4 rows × 199 columns</p>\n",
       "</div>"
      ],
      "text/plain": [
       "  NR_cDC2AB     S100B       LTB      CD1A      PKIB       GSN      LST1  \\\n",
       "0     cDC2A  1.859270  1.451345  1.295573  0.723279  0.579300  0.456642   \n",
       "1     cDC2B -0.150331 -0.117348 -0.104753 -0.058480 -0.046839 -0.036922   \n",
       "2     cDC2B -0.013954 -0.510420  0.013611 -0.056154 -0.184055 -0.348677   \n",
       "3     cDC2A  0.031768  1.162033 -0.030988  0.127842  0.419023  0.793804   \n",
       "\n",
       "   HLA-DQB2     ACTG1      AIF1  ...     VEGFA     CAPN2      FPR3      OLR1  \\\n",
       "0  0.980732  0.390595  0.407114  ... -0.531216 -0.505845 -0.502746 -0.533704   \n",
       "1 -0.079297 -0.031581 -0.032917  ...  0.042951  0.040900  0.040649  0.043152   \n",
       "2 -0.025550 -0.102522  0.206919  ...  0.036864  0.153769  0.103952  0.042814   \n",
       "3  0.058167  0.233402 -0.471076  ... -0.083925 -0.350073 -0.236660 -0.097471   \n",
       "\n",
       "     PPP1CB    IL10RA    RNF149      PIM3  dataset  celltype_dataset  \n",
       "0 -0.481359 -0.487707 -0.475341 -0.487506    Atlas       cDC2A_Atlas  \n",
       "1  0.038920  0.039433  0.038434  0.039417    Atlas       cDC2B_Atlas  \n",
       "2  0.065562  0.056687  0.039824 -0.015986    Brown       cDC2B_Brown  \n",
       "3 -0.149260 -0.129056 -0.090665  0.036394    Brown       cDC2A_Brown  \n",
       "\n",
       "[4 rows x 199 columns]"
      ]
     },
     "execution_count": 117,
     "metadata": {},
     "output_type": "execute_result"
    }
   ],
   "source": [
    "combined_df"
   ]
  },
  {
   "cell_type": "markdown",
   "id": "2e7c608f",
   "metadata": {},
   "source": [
    "### Plot heatmap:"
   ]
  },
  {
   "cell_type": "code",
   "execution_count": 118,
   "id": "9d5a106e",
   "metadata": {},
   "outputs": [],
   "source": [
    "# Select expression columns only\n",
    "expr_cols = [col for col in combined_df.columns if col not in [\"NR_cDC2AB\", \"dataset\", \"celltype_dataset\"]]"
   ]
  },
  {
   "cell_type": "code",
   "execution_count": 119,
   "id": "1d0d7539",
   "metadata": {},
   "outputs": [],
   "source": [
    "# Set index to 'celltype_dataset' for plotting\n",
    "heatmap_data = combined_df.set_index(\"celltype_dataset\")[expr_cols]"
   ]
  },
  {
   "cell_type": "code",
   "execution_count": 120,
   "id": "73bf0386",
   "metadata": {},
   "outputs": [],
   "source": [
    "custom_order = [\n",
    "    \"cDC2A_Atlas\",\n",
    "    \"cDC2A_Brown\",\n",
    "    \"cDC2B_Atlas\",\n",
    "    \"cDC2B_Brown\"\n",
    "]"
   ]
  },
  {
   "cell_type": "code",
   "execution_count": 121,
   "id": "d97e411e",
   "metadata": {},
   "outputs": [],
   "source": [
    "heatmap_data = heatmap_data.loc[custom_order]"
   ]
  },
  {
   "cell_type": "code",
   "execution_count": 122,
   "id": "f94d9be6",
   "metadata": {},
   "outputs": [
    {
     "data": {
      "text/html": [
       "<div>\n",
       "<style scoped>\n",
       "    .dataframe tbody tr th:only-of-type {\n",
       "        vertical-align: middle;\n",
       "    }\n",
       "\n",
       "    .dataframe tbody tr th {\n",
       "        vertical-align: top;\n",
       "    }\n",
       "\n",
       "    .dataframe thead th {\n",
       "        text-align: right;\n",
       "    }\n",
       "</style>\n",
       "<table border=\"1\" class=\"dataframe\">\n",
       "  <thead>\n",
       "    <tr style=\"text-align: right;\">\n",
       "      <th></th>\n",
       "      <th>S100B</th>\n",
       "      <th>LTB</th>\n",
       "      <th>CD1A</th>\n",
       "      <th>PKIB</th>\n",
       "      <th>GSN</th>\n",
       "      <th>LST1</th>\n",
       "      <th>HLA-DQB2</th>\n",
       "      <th>ACTG1</th>\n",
       "      <th>AIF1</th>\n",
       "      <th>IL22RA2</th>\n",
       "      <th>...</th>\n",
       "      <th>GNAQ</th>\n",
       "      <th>KLF4</th>\n",
       "      <th>VEGFA</th>\n",
       "      <th>CAPN2</th>\n",
       "      <th>FPR3</th>\n",
       "      <th>OLR1</th>\n",
       "      <th>PPP1CB</th>\n",
       "      <th>IL10RA</th>\n",
       "      <th>RNF149</th>\n",
       "      <th>PIM3</th>\n",
       "    </tr>\n",
       "    <tr>\n",
       "      <th>celltype_dataset</th>\n",
       "      <th></th>\n",
       "      <th></th>\n",
       "      <th></th>\n",
       "      <th></th>\n",
       "      <th></th>\n",
       "      <th></th>\n",
       "      <th></th>\n",
       "      <th></th>\n",
       "      <th></th>\n",
       "      <th></th>\n",
       "      <th></th>\n",
       "      <th></th>\n",
       "      <th></th>\n",
       "      <th></th>\n",
       "      <th></th>\n",
       "      <th></th>\n",
       "      <th></th>\n",
       "      <th></th>\n",
       "      <th></th>\n",
       "      <th></th>\n",
       "      <th></th>\n",
       "    </tr>\n",
       "  </thead>\n",
       "  <tbody>\n",
       "    <tr>\n",
       "      <th>cDC2A_Atlas</th>\n",
       "      <td>1.859270</td>\n",
       "      <td>1.451345</td>\n",
       "      <td>1.295573</td>\n",
       "      <td>0.723279</td>\n",
       "      <td>0.579300</td>\n",
       "      <td>0.456642</td>\n",
       "      <td>0.980732</td>\n",
       "      <td>0.390595</td>\n",
       "      <td>0.407114</td>\n",
       "      <td>1.467170</td>\n",
       "      <td>...</td>\n",
       "      <td>-0.497098</td>\n",
       "      <td>-0.493913</td>\n",
       "      <td>-0.531216</td>\n",
       "      <td>-0.505845</td>\n",
       "      <td>-0.502746</td>\n",
       "      <td>-0.533704</td>\n",
       "      <td>-0.481359</td>\n",
       "      <td>-0.487707</td>\n",
       "      <td>-0.475341</td>\n",
       "      <td>-0.487506</td>\n",
       "    </tr>\n",
       "    <tr>\n",
       "      <th>cDC2A_Brown</th>\n",
       "      <td>0.031768</td>\n",
       "      <td>1.162033</td>\n",
       "      <td>-0.030988</td>\n",
       "      <td>0.127842</td>\n",
       "      <td>0.419023</td>\n",
       "      <td>0.793804</td>\n",
       "      <td>0.058167</td>\n",
       "      <td>0.233402</td>\n",
       "      <td>-0.471076</td>\n",
       "      <td>0.666149</td>\n",
       "      <td>...</td>\n",
       "      <td>-0.151066</td>\n",
       "      <td>0.235027</td>\n",
       "      <td>-0.083925</td>\n",
       "      <td>-0.350073</td>\n",
       "      <td>-0.236660</td>\n",
       "      <td>-0.097471</td>\n",
       "      <td>-0.149260</td>\n",
       "      <td>-0.129056</td>\n",
       "      <td>-0.090665</td>\n",
       "      <td>0.036394</td>\n",
       "    </tr>\n",
       "    <tr>\n",
       "      <th>cDC2B_Atlas</th>\n",
       "      <td>-0.150331</td>\n",
       "      <td>-0.117348</td>\n",
       "      <td>-0.104753</td>\n",
       "      <td>-0.058480</td>\n",
       "      <td>-0.046839</td>\n",
       "      <td>-0.036922</td>\n",
       "      <td>-0.079297</td>\n",
       "      <td>-0.031581</td>\n",
       "      <td>-0.032917</td>\n",
       "      <td>-0.118628</td>\n",
       "      <td>...</td>\n",
       "      <td>0.040193</td>\n",
       "      <td>0.039935</td>\n",
       "      <td>0.042951</td>\n",
       "      <td>0.040900</td>\n",
       "      <td>0.040649</td>\n",
       "      <td>0.043152</td>\n",
       "      <td>0.038920</td>\n",
       "      <td>0.039433</td>\n",
       "      <td>0.038434</td>\n",
       "      <td>0.039417</td>\n",
       "    </tr>\n",
       "    <tr>\n",
       "      <th>cDC2B_Brown</th>\n",
       "      <td>-0.013954</td>\n",
       "      <td>-0.510420</td>\n",
       "      <td>0.013611</td>\n",
       "      <td>-0.056154</td>\n",
       "      <td>-0.184055</td>\n",
       "      <td>-0.348677</td>\n",
       "      <td>-0.025550</td>\n",
       "      <td>-0.102522</td>\n",
       "      <td>0.206919</td>\n",
       "      <td>-0.292604</td>\n",
       "      <td>...</td>\n",
       "      <td>0.066356</td>\n",
       "      <td>-0.103235</td>\n",
       "      <td>0.036864</td>\n",
       "      <td>0.153769</td>\n",
       "      <td>0.103952</td>\n",
       "      <td>0.042814</td>\n",
       "      <td>0.065562</td>\n",
       "      <td>0.056687</td>\n",
       "      <td>0.039824</td>\n",
       "      <td>-0.015986</td>\n",
       "    </tr>\n",
       "  </tbody>\n",
       "</table>\n",
       "<p>4 rows × 196 columns</p>\n",
       "</div>"
      ],
      "text/plain": [
       "                     S100B       LTB      CD1A      PKIB       GSN      LST1  \\\n",
       "celltype_dataset                                                               \n",
       "cDC2A_Atlas       1.859270  1.451345  1.295573  0.723279  0.579300  0.456642   \n",
       "cDC2A_Brown       0.031768  1.162033 -0.030988  0.127842  0.419023  0.793804   \n",
       "cDC2B_Atlas      -0.150331 -0.117348 -0.104753 -0.058480 -0.046839 -0.036922   \n",
       "cDC2B_Brown      -0.013954 -0.510420  0.013611 -0.056154 -0.184055 -0.348677   \n",
       "\n",
       "                  HLA-DQB2     ACTG1      AIF1   IL22RA2  ...      GNAQ  \\\n",
       "celltype_dataset                                          ...             \n",
       "cDC2A_Atlas       0.980732  0.390595  0.407114  1.467170  ... -0.497098   \n",
       "cDC2A_Brown       0.058167  0.233402 -0.471076  0.666149  ... -0.151066   \n",
       "cDC2B_Atlas      -0.079297 -0.031581 -0.032917 -0.118628  ...  0.040193   \n",
       "cDC2B_Brown      -0.025550 -0.102522  0.206919 -0.292604  ...  0.066356   \n",
       "\n",
       "                      KLF4     VEGFA     CAPN2      FPR3      OLR1    PPP1CB  \\\n",
       "celltype_dataset                                                               \n",
       "cDC2A_Atlas      -0.493913 -0.531216 -0.505845 -0.502746 -0.533704 -0.481359   \n",
       "cDC2A_Brown       0.235027 -0.083925 -0.350073 -0.236660 -0.097471 -0.149260   \n",
       "cDC2B_Atlas       0.039935  0.042951  0.040900  0.040649  0.043152  0.038920   \n",
       "cDC2B_Brown      -0.103235  0.036864  0.153769  0.103952  0.042814  0.065562   \n",
       "\n",
       "                    IL10RA    RNF149      PIM3  \n",
       "celltype_dataset                                \n",
       "cDC2A_Atlas      -0.487707 -0.475341 -0.487506  \n",
       "cDC2A_Brown      -0.129056 -0.090665  0.036394  \n",
       "cDC2B_Atlas       0.039433  0.038434  0.039417  \n",
       "cDC2B_Brown       0.056687  0.039824 -0.015986  \n",
       "\n",
       "[4 rows x 196 columns]"
      ]
     },
     "execution_count": 122,
     "metadata": {},
     "output_type": "execute_result"
    }
   ],
   "source": [
    "heatmap_data"
   ]
  },
  {
   "cell_type": "code",
   "execution_count": 124,
   "id": "94ae996e",
   "metadata": {},
   "outputs": [
    {
     "data": {
      "image/png": "[encoded data removed]",
      "text/plain": [
       "<Figure size 700x150 with 2 Axes>"
      ]
     },
     "metadata": {},
     "output_type": "display_data"
    }
   ],
   "source": [
    "plt.figure(figsize=(7, 1.5))\n",
    "sns.heatmap(heatmap_data, cmap=\"coolwarm\", annot=False)\n",
    "plt.title(\"Gene expression heatmap (normalised per gene across all cells)\")\n",
    "plt.ylabel(\"\")\n",
    "plt.xlabel(\"Genes (first half cDC2A, second half cDC2B)\")\n",
    "plt.xticks([], [])\n",
    "plt.tight_layout()\n",
    "plt.show()"
   ]
  },
  {
   "cell_type": "markdown",
   "id": "6f0ed8cc",
   "metadata": {},
   "source": [
    "# z score between groups"
   ]
  },
  {
   "cell_type": "code",
   "execution_count": 125,
   "id": "b7a0f211",
   "metadata": {},
   "outputs": [],
   "source": [
    "# normalise (z-score) across rows (per gene)\n",
    "heatmap_data_z = heatmap_data.apply(zscore, axis=0)"
   ]
  },
  {
   "cell_type": "code",
   "execution_count": 130,
   "id": "017a2acb",
   "metadata": {},
   "outputs": [
    {
     "data": {
      "image/png": "[encoded data removed]",
      "text/plain": [
       "<Figure size 750x150 with 2 Axes>"
      ]
     },
     "metadata": {},
     "output_type": "display_data"
    }
   ],
   "source": [
    "plt.figure(figsize=(7.5, 1.5))\n",
    "sns.heatmap(heatmap_data_zscored, cmap=\"coolwarm\", annot=False)\n",
    "plt.title(\"Gene expression heatmap (normalised per gene, z scaled between groups)\")\n",
    "plt.ylabel(\"\")\n",
    "plt.xlabel(\"Genes (first half cDC2A, second half cDC2B)\")\n",
    "plt.xticks([], [])\n",
    "plt.tight_layout()\n",
    "plt.savefig(\"heatmap_Atlas_v_Brown_ZZ.pdf\", format=\"pdf\")\n",
    "plt.show()"
   ]
  }
 ],
 "metadata": {
  "kernelspec": {
   "display_name": "Python 3 (ipykernel)",
   "language": "python",
   "name": "python3"
  },
  "language_info": {
   "codemirror_mode": {
    "name": "ipython",
    "version": 3
   },
   "file_extension": ".py",
   "mimetype": "text/x-python",
   "name": "python",
   "nbconvert_exporter": "python",
   "pygments_lexer": "ipython3",
   "version": "3.12.3"
  }
 },
 "nbformat": 4,
 "nbformat_minor": 5
}
